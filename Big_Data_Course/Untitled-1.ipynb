{
 "cells": [
  {
   "cell_type": "code",
   "execution_count": 7,
   "metadata": {},
   "outputs": [],
   "source": [
    "import pandas as pd"
   ]
  },
  {
   "cell_type": "code",
   "execution_count": 8,
   "metadata": {},
   "outputs": [],
   "source": [
    "url = 'https://s3.eu-west-1.amazonaws.com/data.cyber.org.il/virtual_courses/introdata/colab/spotify_tracks1.csv'\n",
    "artists = pd.read_csv(url)"
   ]
  },
  {
   "cell_type": "code",
   "execution_count": null,
   "metadata": {},
   "outputs": [],
   "source": []
  },
  {
   "cell_type": "code",
   "execution_count": 9,
   "metadata": {},
   "outputs": [
    {
     "data": {
      "text/plain": [
       "name                 object\n",
       "artists              object\n",
       "id_artists           object\n",
       "release_year          int64\n",
       "popularity            int64\n",
       "duration_minutes    float64\n",
       "key                  object\n",
       "mode                  int64\n",
       "explicit              int64\n",
       "danceability        float64\n",
       "energy              float64\n",
       "loudness            float64\n",
       "speechiness         float64\n",
       "acousticness        float64\n",
       "instrumentalness    float64\n",
       "liveness            float64\n",
       "valence             float64\n",
       "tempo               float64\n",
       "dtype: object"
      ]
     },
     "execution_count": 9,
     "metadata": {},
     "output_type": "execute_result"
    }
   ],
   "source": [
    "artists.dtypes"
   ]
  },
  {
   "cell_type": "code",
   "execution_count": 10,
   "metadata": {},
   "outputs": [],
   "source": [
    "series_of_numbers=pd.Series([9,0,2,1,0])\n",
    "series_of_strings=pd.Series(['this','is','a','Pandas','series'])"
   ]
  },
  {
   "cell_type": "code",
   "execution_count": 11,
   "metadata": {},
   "outputs": [
    {
     "name": "stdout",
     "output_type": "stream",
     "text": [
      "0    9\n",
      "1    0\n",
      "2    2\n",
      "3    1\n",
      "4    0\n",
      "dtype: int64\n"
     ]
    }
   ],
   "source": [
    "print(series_of_numbers)"
   ]
  },
  {
   "cell_type": "code",
   "execution_count": 12,
   "metadata": {},
   "outputs": [],
   "source": [
    "sorted_series=series_of_strings.sort_values()"
   ]
  },
  {
   "cell_type": "code",
   "execution_count": 13,
   "metadata": {},
   "outputs": [
    {
     "data": {
      "text/plain": [
       "'this'"
      ]
     },
     "execution_count": 13,
     "metadata": {},
     "output_type": "execute_result"
    }
   ],
   "source": [
    "series_of_strings.loc[0]\n"
   ]
  },
  {
   "cell_type": "code",
   "execution_count": 14,
   "metadata": {},
   "outputs": [
    {
     "data": {
      "text/plain": [
       "'this'"
      ]
     },
     "execution_count": 14,
     "metadata": {},
     "output_type": "execute_result"
    }
   ],
   "source": [
    "sorted_series.loc[0]"
   ]
  },
  {
   "cell_type": "code",
   "execution_count": 15,
   "metadata": {},
   "outputs": [
    {
     "data": {
      "text/plain": [
       "'Pandas'"
      ]
     },
     "execution_count": 15,
     "metadata": {},
     "output_type": "execute_result"
    }
   ],
   "source": [
    "sorted_series.iloc[0]"
   ]
  },
  {
   "cell_type": "code",
   "execution_count": 16,
   "metadata": {},
   "outputs": [
    {
     "data": {
      "text/plain": [
       "1        is\n",
       "4    series\n",
       "0      this\n",
       "dtype: object"
      ]
     },
     "execution_count": 16,
     "metadata": {},
     "output_type": "execute_result"
    }
   ],
   "source": [
    "sorted_series.iloc[2:6]"
   ]
  },
  {
   "cell_type": "code",
   "execution_count": 17,
   "metadata": {},
   "outputs": [],
   "source": [
    "artists_by_popularity=artists.sort_values('popularity',ascending=False)"
   ]
  },
  {
   "cell_type": "code",
   "execution_count": 18,
   "metadata": {},
   "outputs": [
    {
     "data": {
      "text/html": [
       "<div>\n",
       "<style scoped>\n",
       "    .dataframe tbody tr th:only-of-type {\n",
       "        vertical-align: middle;\n",
       "    }\n",
       "\n",
       "    .dataframe tbody tr th {\n",
       "        vertical-align: top;\n",
       "    }\n",
       "\n",
       "    .dataframe thead th {\n",
       "        text-align: right;\n",
       "    }\n",
       "</style>\n",
       "<table border=\"1\" class=\"dataframe\">\n",
       "  <thead>\n",
       "    <tr style=\"text-align: right;\">\n",
       "      <th></th>\n",
       "      <th>name</th>\n",
       "      <th>artists</th>\n",
       "      <th>id_artists</th>\n",
       "      <th>release_year</th>\n",
       "      <th>popularity</th>\n",
       "      <th>duration_minutes</th>\n",
       "      <th>key</th>\n",
       "      <th>mode</th>\n",
       "      <th>explicit</th>\n",
       "      <th>danceability</th>\n",
       "      <th>energy</th>\n",
       "      <th>loudness</th>\n",
       "      <th>speechiness</th>\n",
       "      <th>acousticness</th>\n",
       "      <th>instrumentalness</th>\n",
       "      <th>liveness</th>\n",
       "      <th>valence</th>\n",
       "      <th>tempo</th>\n",
       "    </tr>\n",
       "  </thead>\n",
       "  <tbody>\n",
       "    <tr>\n",
       "      <th>87286</th>\n",
       "      <td>Peaches (feat. Daniel Caesar &amp; Giveon)</td>\n",
       "      <td>Justin Bieber &amp; Daniel Caesar &amp; Giveon</td>\n",
       "      <td>1uNFoZAHBGtllmzznpCI3s</td>\n",
       "      <td>2021</td>\n",
       "      <td>100</td>\n",
       "      <td>3.301367</td>\n",
       "      <td>Do</td>\n",
       "      <td>1</td>\n",
       "      <td>1</td>\n",
       "      <td>0.677</td>\n",
       "      <td>0.696</td>\n",
       "      <td>-6.181</td>\n",
       "      <td>0.1190</td>\n",
       "      <td>0.3210</td>\n",
       "      <td>0.000000</td>\n",
       "      <td>0.420</td>\n",
       "      <td>0.464</td>\n",
       "      <td>90.030</td>\n",
       "    </tr>\n",
       "    <tr>\n",
       "      <th>87287</th>\n",
       "      <td>drivers license</td>\n",
       "      <td>Olivia Rodrigo</td>\n",
       "      <td>1McMsnEElThX1knmY4oliG</td>\n",
       "      <td>2021</td>\n",
       "      <td>99</td>\n",
       "      <td>4.033567</td>\n",
       "      <td>Si(b)</td>\n",
       "      <td>1</td>\n",
       "      <td>1</td>\n",
       "      <td>0.585</td>\n",
       "      <td>0.436</td>\n",
       "      <td>-8.761</td>\n",
       "      <td>0.0601</td>\n",
       "      <td>0.7210</td>\n",
       "      <td>0.000013</td>\n",
       "      <td>0.105</td>\n",
       "      <td>0.132</td>\n",
       "      <td>143.874</td>\n",
       "    </tr>\n",
       "    <tr>\n",
       "      <th>87288</th>\n",
       "      <td>Astronaut In The Ocean</td>\n",
       "      <td>Masked Wolf</td>\n",
       "      <td>1uU7g3DNSbsu0QjSEqZtEd</td>\n",
       "      <td>2021</td>\n",
       "      <td>98</td>\n",
       "      <td>2.213000</td>\n",
       "      <td>Mi</td>\n",
       "      <td>0</td>\n",
       "      <td>0</td>\n",
       "      <td>0.778</td>\n",
       "      <td>0.695</td>\n",
       "      <td>-6.865</td>\n",
       "      <td>0.0913</td>\n",
       "      <td>0.1750</td>\n",
       "      <td>0.000000</td>\n",
       "      <td>0.150</td>\n",
       "      <td>0.472</td>\n",
       "      <td>149.996</td>\n",
       "    </tr>\n",
       "    <tr>\n",
       "      <th>86367</th>\n",
       "      <td>Save Your Tears</td>\n",
       "      <td>The Weeknd</td>\n",
       "      <td>1Xyo4u8uXC1ZmMpatF05PJ</td>\n",
       "      <td>2020</td>\n",
       "      <td>97</td>\n",
       "      <td>3.593783</td>\n",
       "      <td>Do</td>\n",
       "      <td>1</td>\n",
       "      <td>1</td>\n",
       "      <td>0.680</td>\n",
       "      <td>0.826</td>\n",
       "      <td>-5.487</td>\n",
       "      <td>0.0309</td>\n",
       "      <td>0.0212</td>\n",
       "      <td>0.000012</td>\n",
       "      <td>0.543</td>\n",
       "      <td>0.644</td>\n",
       "      <td>118.051</td>\n",
       "    </tr>\n",
       "    <tr>\n",
       "      <th>86368</th>\n",
       "      <td>telepatía</td>\n",
       "      <td>Kali Uchis</td>\n",
       "      <td>1U1el3k54VvEUzo3ybLPlM</td>\n",
       "      <td>2020</td>\n",
       "      <td>97</td>\n",
       "      <td>2.669850</td>\n",
       "      <td>Si</td>\n",
       "      <td>0</td>\n",
       "      <td>0</td>\n",
       "      <td>0.653</td>\n",
       "      <td>0.524</td>\n",
       "      <td>-9.016</td>\n",
       "      <td>0.0502</td>\n",
       "      <td>0.1120</td>\n",
       "      <td>0.000000</td>\n",
       "      <td>0.203</td>\n",
       "      <td>0.553</td>\n",
       "      <td>83.970</td>\n",
       "    </tr>\n",
       "  </tbody>\n",
       "</table>\n",
       "</div>"
      ],
      "text/plain": [
       "                                         name   \n",
       "87286  Peaches (feat. Daniel Caesar & Giveon)  \\\n",
       "87287                         drivers license   \n",
       "87288                  Astronaut In The Ocean   \n",
       "86367                         Save Your Tears   \n",
       "86368                               telepatía   \n",
       "\n",
       "                                      artists              id_artists   \n",
       "87286  Justin Bieber & Daniel Caesar & Giveon  1uNFoZAHBGtllmzznpCI3s  \\\n",
       "87287                          Olivia Rodrigo  1McMsnEElThX1knmY4oliG   \n",
       "87288                             Masked Wolf  1uU7g3DNSbsu0QjSEqZtEd   \n",
       "86367                              The Weeknd  1Xyo4u8uXC1ZmMpatF05PJ   \n",
       "86368                              Kali Uchis  1U1el3k54VvEUzo3ybLPlM   \n",
       "\n",
       "       release_year  popularity  duration_minutes    key  mode  explicit   \n",
       "87286          2021         100          3.301367     Do     1         1  \\\n",
       "87287          2021          99          4.033567  Si(b)     1         1   \n",
       "87288          2021          98          2.213000     Mi     0         0   \n",
       "86367          2020          97          3.593783     Do     1         1   \n",
       "86368          2020          97          2.669850     Si     0         0   \n",
       "\n",
       "       danceability  energy  loudness  speechiness  acousticness   \n",
       "87286         0.677   0.696    -6.181       0.1190        0.3210  \\\n",
       "87287         0.585   0.436    -8.761       0.0601        0.7210   \n",
       "87288         0.778   0.695    -6.865       0.0913        0.1750   \n",
       "86367         0.680   0.826    -5.487       0.0309        0.0212   \n",
       "86368         0.653   0.524    -9.016       0.0502        0.1120   \n",
       "\n",
       "       instrumentalness  liveness  valence    tempo  \n",
       "87286          0.000000     0.420    0.464   90.030  \n",
       "87287          0.000013     0.105    0.132  143.874  \n",
       "87288          0.000000     0.150    0.472  149.996  \n",
       "86367          0.000012     0.543    0.644  118.051  \n",
       "86368          0.000000     0.203    0.553   83.970  "
      ]
     },
     "execution_count": 18,
     "metadata": {},
     "output_type": "execute_result"
    }
   ],
   "source": [
    "artists_by_popularity.head()"
   ]
  },
  {
   "cell_type": "code",
   "execution_count": 19,
   "metadata": {},
   "outputs": [],
   "source": [
    "artists_by_popularity=artists.sort_values(['popularity','id_artists'],ascending=False)"
   ]
  },
  {
   "cell_type": "code",
   "execution_count": 20,
   "metadata": {},
   "outputs": [
    {
     "data": {
      "text/html": [
       "<div>\n",
       "<style scoped>\n",
       "    .dataframe tbody tr th:only-of-type {\n",
       "        vertical-align: middle;\n",
       "    }\n",
       "\n",
       "    .dataframe tbody tr th {\n",
       "        vertical-align: top;\n",
       "    }\n",
       "\n",
       "    .dataframe thead th {\n",
       "        text-align: right;\n",
       "    }\n",
       "</style>\n",
       "<table border=\"1\" class=\"dataframe\">\n",
       "  <thead>\n",
       "    <tr style=\"text-align: right;\">\n",
       "      <th></th>\n",
       "      <th>name</th>\n",
       "      <th>artists</th>\n",
       "      <th>id_artists</th>\n",
       "      <th>release_year</th>\n",
       "      <th>popularity</th>\n",
       "      <th>duration_minutes</th>\n",
       "      <th>key</th>\n",
       "      <th>mode</th>\n",
       "      <th>explicit</th>\n",
       "      <th>danceability</th>\n",
       "      <th>energy</th>\n",
       "      <th>loudness</th>\n",
       "      <th>speechiness</th>\n",
       "      <th>acousticness</th>\n",
       "      <th>instrumentalness</th>\n",
       "      <th>liveness</th>\n",
       "      <th>valence</th>\n",
       "      <th>tempo</th>\n",
       "    </tr>\n",
       "  </thead>\n",
       "  <tbody>\n",
       "    <tr>\n",
       "      <th>87286</th>\n",
       "      <td>Peaches (feat. Daniel Caesar &amp; Giveon)</td>\n",
       "      <td>Justin Bieber &amp; Daniel Caesar &amp; Giveon</td>\n",
       "      <td>1uNFoZAHBGtllmzznpCI3s</td>\n",
       "      <td>2021</td>\n",
       "      <td>100</td>\n",
       "      <td>3.301367</td>\n",
       "      <td>Do</td>\n",
       "      <td>1</td>\n",
       "      <td>1</td>\n",
       "      <td>0.677</td>\n",
       "      <td>0.696</td>\n",
       "      <td>-6.181</td>\n",
       "      <td>0.1190</td>\n",
       "      <td>0.32100</td>\n",
       "      <td>0.000000</td>\n",
       "      <td>0.4200</td>\n",
       "      <td>0.464</td>\n",
       "      <td>90.030</td>\n",
       "    </tr>\n",
       "    <tr>\n",
       "      <th>87287</th>\n",
       "      <td>drivers license</td>\n",
       "      <td>Olivia Rodrigo</td>\n",
       "      <td>1McMsnEElThX1knmY4oliG</td>\n",
       "      <td>2021</td>\n",
       "      <td>99</td>\n",
       "      <td>4.033567</td>\n",
       "      <td>Si(b)</td>\n",
       "      <td>1</td>\n",
       "      <td>1</td>\n",
       "      <td>0.585</td>\n",
       "      <td>0.436</td>\n",
       "      <td>-8.761</td>\n",
       "      <td>0.0601</td>\n",
       "      <td>0.72100</td>\n",
       "      <td>0.000013</td>\n",
       "      <td>0.1050</td>\n",
       "      <td>0.132</td>\n",
       "      <td>143.874</td>\n",
       "    </tr>\n",
       "    <tr>\n",
       "      <th>87288</th>\n",
       "      <td>Astronaut In The Ocean</td>\n",
       "      <td>Masked Wolf</td>\n",
       "      <td>1uU7g3DNSbsu0QjSEqZtEd</td>\n",
       "      <td>2021</td>\n",
       "      <td>98</td>\n",
       "      <td>2.213000</td>\n",
       "      <td>Mi</td>\n",
       "      <td>0</td>\n",
       "      <td>0</td>\n",
       "      <td>0.778</td>\n",
       "      <td>0.695</td>\n",
       "      <td>-6.865</td>\n",
       "      <td>0.0913</td>\n",
       "      <td>0.17500</td>\n",
       "      <td>0.000000</td>\n",
       "      <td>0.1500</td>\n",
       "      <td>0.472</td>\n",
       "      <td>149.996</td>\n",
       "    </tr>\n",
       "    <tr>\n",
       "      <th>86367</th>\n",
       "      <td>Save Your Tears</td>\n",
       "      <td>The Weeknd</td>\n",
       "      <td>1Xyo4u8uXC1ZmMpatF05PJ</td>\n",
       "      <td>2020</td>\n",
       "      <td>97</td>\n",
       "      <td>3.593783</td>\n",
       "      <td>Do</td>\n",
       "      <td>1</td>\n",
       "      <td>1</td>\n",
       "      <td>0.680</td>\n",
       "      <td>0.826</td>\n",
       "      <td>-5.487</td>\n",
       "      <td>0.0309</td>\n",
       "      <td>0.02120</td>\n",
       "      <td>0.000012</td>\n",
       "      <td>0.5430</td>\n",
       "      <td>0.644</td>\n",
       "      <td>118.051</td>\n",
       "    </tr>\n",
       "    <tr>\n",
       "      <th>86368</th>\n",
       "      <td>telepatía</td>\n",
       "      <td>Kali Uchis</td>\n",
       "      <td>1U1el3k54VvEUzo3ybLPlM</td>\n",
       "      <td>2020</td>\n",
       "      <td>97</td>\n",
       "      <td>2.669850</td>\n",
       "      <td>Si</td>\n",
       "      <td>0</td>\n",
       "      <td>0</td>\n",
       "      <td>0.653</td>\n",
       "      <td>0.524</td>\n",
       "      <td>-9.016</td>\n",
       "      <td>0.0502</td>\n",
       "      <td>0.11200</td>\n",
       "      <td>0.000000</td>\n",
       "      <td>0.2030</td>\n",
       "      <td>0.553</td>\n",
       "      <td>83.970</td>\n",
       "    </tr>\n",
       "    <tr>\n",
       "      <th>86369</th>\n",
       "      <td>Blinding Lights</td>\n",
       "      <td>The Weeknd</td>\n",
       "      <td>1Xyo4u8uXC1ZmMpatF05PJ</td>\n",
       "      <td>2020</td>\n",
       "      <td>96</td>\n",
       "      <td>3.334000</td>\n",
       "      <td>Re(b)</td>\n",
       "      <td>1</td>\n",
       "      <td>0</td>\n",
       "      <td>0.514</td>\n",
       "      <td>0.730</td>\n",
       "      <td>-5.934</td>\n",
       "      <td>0.0598</td>\n",
       "      <td>0.00146</td>\n",
       "      <td>0.000095</td>\n",
       "      <td>0.0897</td>\n",
       "      <td>0.334</td>\n",
       "      <td>171.005</td>\n",
       "    </tr>\n",
       "    <tr>\n",
       "      <th>87289</th>\n",
       "      <td>Leave The Door Open</td>\n",
       "      <td>Bruno Mars &amp; Anderson .Paak &amp; Silk Sonic</td>\n",
       "      <td>0du5cEVh5yTK9QJze8zA0C</td>\n",
       "      <td>2021</td>\n",
       "      <td>96</td>\n",
       "      <td>4.034933</td>\n",
       "      <td>Fa</td>\n",
       "      <td>1</td>\n",
       "      <td>0</td>\n",
       "      <td>0.586</td>\n",
       "      <td>0.616</td>\n",
       "      <td>-7.964</td>\n",
       "      <td>0.0324</td>\n",
       "      <td>0.18200</td>\n",
       "      <td>0.000000</td>\n",
       "      <td>0.0927</td>\n",
       "      <td>0.719</td>\n",
       "      <td>148.088</td>\n",
       "    </tr>\n",
       "    <tr>\n",
       "      <th>86370</th>\n",
       "      <td>The Business</td>\n",
       "      <td>Tiësto</td>\n",
       "      <td>2o5jDhtHVPhrJdv3cEQ99Z</td>\n",
       "      <td>2020</td>\n",
       "      <td>95</td>\n",
       "      <td>2.733333</td>\n",
       "      <td>La(b)</td>\n",
       "      <td>0</td>\n",
       "      <td>0</td>\n",
       "      <td>0.798</td>\n",
       "      <td>0.620</td>\n",
       "      <td>-7.079</td>\n",
       "      <td>0.2320</td>\n",
       "      <td>0.41400</td>\n",
       "      <td>0.019200</td>\n",
       "      <td>0.1120</td>\n",
       "      <td>0.235</td>\n",
       "      <td>120.031</td>\n",
       "    </tr>\n",
       "  </tbody>\n",
       "</table>\n",
       "</div>"
      ],
      "text/plain": [
       "                                         name   \n",
       "87286  Peaches (feat. Daniel Caesar & Giveon)  \\\n",
       "87287                         drivers license   \n",
       "87288                  Astronaut In The Ocean   \n",
       "86367                         Save Your Tears   \n",
       "86368                               telepatía   \n",
       "86369                         Blinding Lights   \n",
       "87289                     Leave The Door Open   \n",
       "86370                            The Business   \n",
       "\n",
       "                                        artists              id_artists   \n",
       "87286    Justin Bieber & Daniel Caesar & Giveon  1uNFoZAHBGtllmzznpCI3s  \\\n",
       "87287                            Olivia Rodrigo  1McMsnEElThX1knmY4oliG   \n",
       "87288                               Masked Wolf  1uU7g3DNSbsu0QjSEqZtEd   \n",
       "86367                                The Weeknd  1Xyo4u8uXC1ZmMpatF05PJ   \n",
       "86368                                Kali Uchis  1U1el3k54VvEUzo3ybLPlM   \n",
       "86369                                The Weeknd  1Xyo4u8uXC1ZmMpatF05PJ   \n",
       "87289  Bruno Mars & Anderson .Paak & Silk Sonic  0du5cEVh5yTK9QJze8zA0C   \n",
       "86370                                    Tiësto  2o5jDhtHVPhrJdv3cEQ99Z   \n",
       "\n",
       "       release_year  popularity  duration_minutes    key  mode  explicit   \n",
       "87286          2021         100          3.301367     Do     1         1  \\\n",
       "87287          2021          99          4.033567  Si(b)     1         1   \n",
       "87288          2021          98          2.213000     Mi     0         0   \n",
       "86367          2020          97          3.593783     Do     1         1   \n",
       "86368          2020          97          2.669850     Si     0         0   \n",
       "86369          2020          96          3.334000  Re(b)     1         0   \n",
       "87289          2021          96          4.034933     Fa     1         0   \n",
       "86370          2020          95          2.733333  La(b)     0         0   \n",
       "\n",
       "       danceability  energy  loudness  speechiness  acousticness   \n",
       "87286         0.677   0.696    -6.181       0.1190       0.32100  \\\n",
       "87287         0.585   0.436    -8.761       0.0601       0.72100   \n",
       "87288         0.778   0.695    -6.865       0.0913       0.17500   \n",
       "86367         0.680   0.826    -5.487       0.0309       0.02120   \n",
       "86368         0.653   0.524    -9.016       0.0502       0.11200   \n",
       "86369         0.514   0.730    -5.934       0.0598       0.00146   \n",
       "87289         0.586   0.616    -7.964       0.0324       0.18200   \n",
       "86370         0.798   0.620    -7.079       0.2320       0.41400   \n",
       "\n",
       "       instrumentalness  liveness  valence    tempo  \n",
       "87286          0.000000    0.4200    0.464   90.030  \n",
       "87287          0.000013    0.1050    0.132  143.874  \n",
       "87288          0.000000    0.1500    0.472  149.996  \n",
       "86367          0.000012    0.5430    0.644  118.051  \n",
       "86368          0.000000    0.2030    0.553   83.970  \n",
       "86369          0.000095    0.0897    0.334  171.005  \n",
       "87289          0.000000    0.0927    0.719  148.088  \n",
       "86370          0.019200    0.1120    0.235  120.031  "
      ]
     },
     "execution_count": 20,
     "metadata": {},
     "output_type": "execute_result"
    }
   ],
   "source": [
    "artists_by_popularity.head(8)"
   ]
  },
  {
   "cell_type": "code",
   "execution_count": 21,
   "metadata": {},
   "outputs": [
    {
     "data": {
      "text/html": [
       "<div>\n",
       "<style scoped>\n",
       "    .dataframe tbody tr th:only-of-type {\n",
       "        vertical-align: middle;\n",
       "    }\n",
       "\n",
       "    .dataframe tbody tr th {\n",
       "        vertical-align: top;\n",
       "    }\n",
       "\n",
       "    .dataframe thead th {\n",
       "        text-align: right;\n",
       "    }\n",
       "</style>\n",
       "<table border=\"1\" class=\"dataframe\">\n",
       "  <thead>\n",
       "    <tr style=\"text-align: right;\">\n",
       "      <th></th>\n",
       "      <th>name</th>\n",
       "      <th>artists</th>\n",
       "      <th>id_artists</th>\n",
       "      <th>release_year</th>\n",
       "      <th>popularity</th>\n",
       "      <th>duration_minutes</th>\n",
       "      <th>key</th>\n",
       "      <th>mode</th>\n",
       "      <th>explicit</th>\n",
       "      <th>danceability</th>\n",
       "      <th>energy</th>\n",
       "      <th>loudness</th>\n",
       "      <th>speechiness</th>\n",
       "      <th>acousticness</th>\n",
       "      <th>instrumentalness</th>\n",
       "      <th>liveness</th>\n",
       "      <th>valence</th>\n",
       "      <th>tempo</th>\n",
       "    </tr>\n",
       "  </thead>\n",
       "  <tbody>\n",
       "    <tr>\n",
       "      <th>87286</th>\n",
       "      <td>Peaches (feat. Daniel Caesar &amp; Giveon)</td>\n",
       "      <td>Justin Bieber &amp; Daniel Caesar &amp; Giveon</td>\n",
       "      <td>1uNFoZAHBGtllmzznpCI3s</td>\n",
       "      <td>2021</td>\n",
       "      <td>100</td>\n",
       "      <td>3.301367</td>\n",
       "      <td>Do</td>\n",
       "      <td>1</td>\n",
       "      <td>1</td>\n",
       "      <td>0.677</td>\n",
       "      <td>0.696</td>\n",
       "      <td>-6.181</td>\n",
       "      <td>0.1190</td>\n",
       "      <td>0.32100</td>\n",
       "      <td>0.000000</td>\n",
       "      <td>0.4200</td>\n",
       "      <td>0.464</td>\n",
       "      <td>90.030</td>\n",
       "    </tr>\n",
       "    <tr>\n",
       "      <th>87287</th>\n",
       "      <td>drivers license</td>\n",
       "      <td>Olivia Rodrigo</td>\n",
       "      <td>1McMsnEElThX1knmY4oliG</td>\n",
       "      <td>2021</td>\n",
       "      <td>99</td>\n",
       "      <td>4.033567</td>\n",
       "      <td>Si(b)</td>\n",
       "      <td>1</td>\n",
       "      <td>1</td>\n",
       "      <td>0.585</td>\n",
       "      <td>0.436</td>\n",
       "      <td>-8.761</td>\n",
       "      <td>0.0601</td>\n",
       "      <td>0.72100</td>\n",
       "      <td>0.000013</td>\n",
       "      <td>0.1050</td>\n",
       "      <td>0.132</td>\n",
       "      <td>143.874</td>\n",
       "    </tr>\n",
       "    <tr>\n",
       "      <th>87288</th>\n",
       "      <td>Astronaut In The Ocean</td>\n",
       "      <td>Masked Wolf</td>\n",
       "      <td>1uU7g3DNSbsu0QjSEqZtEd</td>\n",
       "      <td>2021</td>\n",
       "      <td>98</td>\n",
       "      <td>2.213000</td>\n",
       "      <td>Mi</td>\n",
       "      <td>0</td>\n",
       "      <td>0</td>\n",
       "      <td>0.778</td>\n",
       "      <td>0.695</td>\n",
       "      <td>-6.865</td>\n",
       "      <td>0.0913</td>\n",
       "      <td>0.17500</td>\n",
       "      <td>0.000000</td>\n",
       "      <td>0.1500</td>\n",
       "      <td>0.472</td>\n",
       "      <td>149.996</td>\n",
       "    </tr>\n",
       "    <tr>\n",
       "      <th>86367</th>\n",
       "      <td>Save Your Tears</td>\n",
       "      <td>The Weeknd</td>\n",
       "      <td>1Xyo4u8uXC1ZmMpatF05PJ</td>\n",
       "      <td>2020</td>\n",
       "      <td>97</td>\n",
       "      <td>3.593783</td>\n",
       "      <td>Do</td>\n",
       "      <td>1</td>\n",
       "      <td>1</td>\n",
       "      <td>0.680</td>\n",
       "      <td>0.826</td>\n",
       "      <td>-5.487</td>\n",
       "      <td>0.0309</td>\n",
       "      <td>0.02120</td>\n",
       "      <td>0.000012</td>\n",
       "      <td>0.5430</td>\n",
       "      <td>0.644</td>\n",
       "      <td>118.051</td>\n",
       "    </tr>\n",
       "    <tr>\n",
       "      <th>86368</th>\n",
       "      <td>telepatía</td>\n",
       "      <td>Kali Uchis</td>\n",
       "      <td>1U1el3k54VvEUzo3ybLPlM</td>\n",
       "      <td>2020</td>\n",
       "      <td>97</td>\n",
       "      <td>2.669850</td>\n",
       "      <td>Si</td>\n",
       "      <td>0</td>\n",
       "      <td>0</td>\n",
       "      <td>0.653</td>\n",
       "      <td>0.524</td>\n",
       "      <td>-9.016</td>\n",
       "      <td>0.0502</td>\n",
       "      <td>0.11200</td>\n",
       "      <td>0.000000</td>\n",
       "      <td>0.2030</td>\n",
       "      <td>0.553</td>\n",
       "      <td>83.970</td>\n",
       "    </tr>\n",
       "    <tr>\n",
       "      <th>86369</th>\n",
       "      <td>Blinding Lights</td>\n",
       "      <td>The Weeknd</td>\n",
       "      <td>1Xyo4u8uXC1ZmMpatF05PJ</td>\n",
       "      <td>2020</td>\n",
       "      <td>96</td>\n",
       "      <td>3.334000</td>\n",
       "      <td>Re(b)</td>\n",
       "      <td>1</td>\n",
       "      <td>0</td>\n",
       "      <td>0.514</td>\n",
       "      <td>0.730</td>\n",
       "      <td>-5.934</td>\n",
       "      <td>0.0598</td>\n",
       "      <td>0.00146</td>\n",
       "      <td>0.000095</td>\n",
       "      <td>0.0897</td>\n",
       "      <td>0.334</td>\n",
       "      <td>171.005</td>\n",
       "    </tr>\n",
       "    <tr>\n",
       "      <th>87289</th>\n",
       "      <td>Leave The Door Open</td>\n",
       "      <td>Bruno Mars &amp; Anderson .Paak &amp; Silk Sonic</td>\n",
       "      <td>0du5cEVh5yTK9QJze8zA0C</td>\n",
       "      <td>2021</td>\n",
       "      <td>96</td>\n",
       "      <td>4.034933</td>\n",
       "      <td>Fa</td>\n",
       "      <td>1</td>\n",
       "      <td>0</td>\n",
       "      <td>0.586</td>\n",
       "      <td>0.616</td>\n",
       "      <td>-7.964</td>\n",
       "      <td>0.0324</td>\n",
       "      <td>0.18200</td>\n",
       "      <td>0.000000</td>\n",
       "      <td>0.0927</td>\n",
       "      <td>0.719</td>\n",
       "      <td>148.088</td>\n",
       "    </tr>\n",
       "    <tr>\n",
       "      <th>86370</th>\n",
       "      <td>The Business</td>\n",
       "      <td>Tiësto</td>\n",
       "      <td>2o5jDhtHVPhrJdv3cEQ99Z</td>\n",
       "      <td>2020</td>\n",
       "      <td>95</td>\n",
       "      <td>2.733333</td>\n",
       "      <td>La(b)</td>\n",
       "      <td>0</td>\n",
       "      <td>0</td>\n",
       "      <td>0.798</td>\n",
       "      <td>0.620</td>\n",
       "      <td>-7.079</td>\n",
       "      <td>0.2320</td>\n",
       "      <td>0.41400</td>\n",
       "      <td>0.019200</td>\n",
       "      <td>0.1120</td>\n",
       "      <td>0.235</td>\n",
       "      <td>120.031</td>\n",
       "    </tr>\n",
       "    <tr>\n",
       "      <th>86375</th>\n",
       "      <td>Bandido</td>\n",
       "      <td>Myke Towers &amp; Juhn</td>\n",
       "      <td>7iK8PXO48WeuP03g8YR51W</td>\n",
       "      <td>2020</td>\n",
       "      <td>94</td>\n",
       "      <td>3.880883</td>\n",
       "      <td>La(b)</td>\n",
       "      <td>1</td>\n",
       "      <td>0</td>\n",
       "      <td>0.713</td>\n",
       "      <td>0.617</td>\n",
       "      <td>-4.637</td>\n",
       "      <td>0.0887</td>\n",
       "      <td>0.12200</td>\n",
       "      <td>0.000000</td>\n",
       "      <td>0.0962</td>\n",
       "      <td>0.682</td>\n",
       "      <td>168.021</td>\n",
       "    </tr>\n",
       "  </tbody>\n",
       "</table>\n",
       "</div>"
      ],
      "text/plain": [
       "                                         name   \n",
       "87286  Peaches (feat. Daniel Caesar & Giveon)  \\\n",
       "87287                         drivers license   \n",
       "87288                  Astronaut In The Ocean   \n",
       "86367                         Save Your Tears   \n",
       "86368                               telepatía   \n",
       "86369                         Blinding Lights   \n",
       "87289                     Leave The Door Open   \n",
       "86370                            The Business   \n",
       "86375                                 Bandido   \n",
       "\n",
       "                                        artists              id_artists   \n",
       "87286    Justin Bieber & Daniel Caesar & Giveon  1uNFoZAHBGtllmzznpCI3s  \\\n",
       "87287                            Olivia Rodrigo  1McMsnEElThX1knmY4oliG   \n",
       "87288                               Masked Wolf  1uU7g3DNSbsu0QjSEqZtEd   \n",
       "86367                                The Weeknd  1Xyo4u8uXC1ZmMpatF05PJ   \n",
       "86368                                Kali Uchis  1U1el3k54VvEUzo3ybLPlM   \n",
       "86369                                The Weeknd  1Xyo4u8uXC1ZmMpatF05PJ   \n",
       "87289  Bruno Mars & Anderson .Paak & Silk Sonic  0du5cEVh5yTK9QJze8zA0C   \n",
       "86370                                    Tiësto  2o5jDhtHVPhrJdv3cEQ99Z   \n",
       "86375                        Myke Towers & Juhn  7iK8PXO48WeuP03g8YR51W   \n",
       "\n",
       "       release_year  popularity  duration_minutes    key  mode  explicit   \n",
       "87286          2021         100          3.301367     Do     1         1  \\\n",
       "87287          2021          99          4.033567  Si(b)     1         1   \n",
       "87288          2021          98          2.213000     Mi     0         0   \n",
       "86367          2020          97          3.593783     Do     1         1   \n",
       "86368          2020          97          2.669850     Si     0         0   \n",
       "86369          2020          96          3.334000  Re(b)     1         0   \n",
       "87289          2021          96          4.034933     Fa     1         0   \n",
       "86370          2020          95          2.733333  La(b)     0         0   \n",
       "86375          2020          94          3.880883  La(b)     1         0   \n",
       "\n",
       "       danceability  energy  loudness  speechiness  acousticness   \n",
       "87286         0.677   0.696    -6.181       0.1190       0.32100  \\\n",
       "87287         0.585   0.436    -8.761       0.0601       0.72100   \n",
       "87288         0.778   0.695    -6.865       0.0913       0.17500   \n",
       "86367         0.680   0.826    -5.487       0.0309       0.02120   \n",
       "86368         0.653   0.524    -9.016       0.0502       0.11200   \n",
       "86369         0.514   0.730    -5.934       0.0598       0.00146   \n",
       "87289         0.586   0.616    -7.964       0.0324       0.18200   \n",
       "86370         0.798   0.620    -7.079       0.2320       0.41400   \n",
       "86375         0.713   0.617    -4.637       0.0887       0.12200   \n",
       "\n",
       "       instrumentalness  liveness  valence    tempo  \n",
       "87286          0.000000    0.4200    0.464   90.030  \n",
       "87287          0.000013    0.1050    0.132  143.874  \n",
       "87288          0.000000    0.1500    0.472  149.996  \n",
       "86367          0.000012    0.5430    0.644  118.051  \n",
       "86368          0.000000    0.2030    0.553   83.970  \n",
       "86369          0.000095    0.0897    0.334  171.005  \n",
       "87289          0.000000    0.0927    0.719  148.088  \n",
       "86370          0.019200    0.1120    0.235  120.031  \n",
       "86375          0.000000    0.0962    0.682  168.021  "
      ]
     },
     "execution_count": 21,
     "metadata": {},
     "output_type": "execute_result"
    }
   ],
   "source": [
    "artists_by_popularity.iloc[0:9,:]"
   ]
  },
  {
   "cell_type": "code",
   "execution_count": 22,
   "metadata": {},
   "outputs": [
    {
     "data": {
      "text/html": [
       "<div>\n",
       "<style scoped>\n",
       "    .dataframe tbody tr th:only-of-type {\n",
       "        vertical-align: middle;\n",
       "    }\n",
       "\n",
       "    .dataframe tbody tr th {\n",
       "        vertical-align: top;\n",
       "    }\n",
       "\n",
       "    .dataframe thead th {\n",
       "        text-align: right;\n",
       "    }\n",
       "</style>\n",
       "<table border=\"1\" class=\"dataframe\">\n",
       "  <thead>\n",
       "    <tr style=\"text-align: right;\">\n",
       "      <th></th>\n",
       "      <th>artists</th>\n",
       "      <th>popularity</th>\n",
       "      <th>id_artists</th>\n",
       "    </tr>\n",
       "  </thead>\n",
       "  <tbody>\n",
       "    <tr>\n",
       "      <th>87286</th>\n",
       "      <td>Justin Bieber &amp; Daniel Caesar &amp; Giveon</td>\n",
       "      <td>100</td>\n",
       "      <td>1uNFoZAHBGtllmzznpCI3s</td>\n",
       "    </tr>\n",
       "    <tr>\n",
       "      <th>87287</th>\n",
       "      <td>Olivia Rodrigo</td>\n",
       "      <td>99</td>\n",
       "      <td>1McMsnEElThX1knmY4oliG</td>\n",
       "    </tr>\n",
       "    <tr>\n",
       "      <th>87288</th>\n",
       "      <td>Masked Wolf</td>\n",
       "      <td>98</td>\n",
       "      <td>1uU7g3DNSbsu0QjSEqZtEd</td>\n",
       "    </tr>\n",
       "    <tr>\n",
       "      <th>86367</th>\n",
       "      <td>The Weeknd</td>\n",
       "      <td>97</td>\n",
       "      <td>1Xyo4u8uXC1ZmMpatF05PJ</td>\n",
       "    </tr>\n",
       "    <tr>\n",
       "      <th>86368</th>\n",
       "      <td>Kali Uchis</td>\n",
       "      <td>97</td>\n",
       "      <td>1U1el3k54VvEUzo3ybLPlM</td>\n",
       "    </tr>\n",
       "    <tr>\n",
       "      <th>...</th>\n",
       "      <td>...</td>\n",
       "      <td>...</td>\n",
       "      <td>...</td>\n",
       "    </tr>\n",
       "    <tr>\n",
       "      <th>316493</th>\n",
       "      <td>Vyacheslav Sketch</td>\n",
       "      <td>0</td>\n",
       "      <td>006ZADyabxpgKqMmh8W2yz</td>\n",
       "    </tr>\n",
       "    <tr>\n",
       "      <th>456886</th>\n",
       "      <td>Rastragayak Shantilal B. Shah</td>\n",
       "      <td>0</td>\n",
       "      <td>004Da0eAbekHrjGgSQhKHZ</td>\n",
       "    </tr>\n",
       "    <tr>\n",
       "      <th>456933</th>\n",
       "      <td>Rastragayak Shantilal B. Shah</td>\n",
       "      <td>0</td>\n",
       "      <td>004Da0eAbekHrjGgSQhKHZ</td>\n",
       "    </tr>\n",
       "    <tr>\n",
       "      <th>74511</th>\n",
       "      <td>Bletzung</td>\n",
       "      <td>0</td>\n",
       "      <td>001zCqILBoELQX6teUKKDf</td>\n",
       "    </tr>\n",
       "    <tr>\n",
       "      <th>161575</th>\n",
       "      <td>Motion Drive</td>\n",
       "      <td>0</td>\n",
       "      <td>0001wHqxbF2YYRQxGdbyER</td>\n",
       "    </tr>\n",
       "  </tbody>\n",
       "</table>\n",
       "<p>521260 rows × 3 columns</p>\n",
       "</div>"
      ],
      "text/plain": [
       "                                       artists  popularity   \n",
       "87286   Justin Bieber & Daniel Caesar & Giveon         100  \\\n",
       "87287                           Olivia Rodrigo          99   \n",
       "87288                              Masked Wolf          98   \n",
       "86367                               The Weeknd          97   \n",
       "86368                               Kali Uchis          97   \n",
       "...                                        ...         ...   \n",
       "316493                       Vyacheslav Sketch           0   \n",
       "456886           Rastragayak Shantilal B. Shah           0   \n",
       "456933           Rastragayak Shantilal B. Shah           0   \n",
       "74511                                 Bletzung           0   \n",
       "161575                            Motion Drive           0   \n",
       "\n",
       "                    id_artists  \n",
       "87286   1uNFoZAHBGtllmzznpCI3s  \n",
       "87287   1McMsnEElThX1knmY4oliG  \n",
       "87288   1uU7g3DNSbsu0QjSEqZtEd  \n",
       "86367   1Xyo4u8uXC1ZmMpatF05PJ  \n",
       "86368   1U1el3k54VvEUzo3ybLPlM  \n",
       "...                        ...  \n",
       "316493  006ZADyabxpgKqMmh8W2yz  \n",
       "456886  004Da0eAbekHrjGgSQhKHZ  \n",
       "456933  004Da0eAbekHrjGgSQhKHZ  \n",
       "74511   001zCqILBoELQX6teUKKDf  \n",
       "161575  0001wHqxbF2YYRQxGdbyER  \n",
       "\n",
       "[521260 rows x 3 columns]"
      ]
     },
     "execution_count": 22,
     "metadata": {},
     "output_type": "execute_result"
    }
   ],
   "source": [
    "artists_by_popularity[['artists','popularity','id_artists']]"
   ]
  },
  {
   "cell_type": "code",
   "execution_count": 23,
   "metadata": {},
   "outputs": [
    {
     "data": {
      "text/html": [
       "<div>\n",
       "<style scoped>\n",
       "    .dataframe tbody tr th:only-of-type {\n",
       "        vertical-align: middle;\n",
       "    }\n",
       "\n",
       "    .dataframe tbody tr th {\n",
       "        vertical-align: top;\n",
       "    }\n",
       "\n",
       "    .dataframe thead th {\n",
       "        text-align: right;\n",
       "    }\n",
       "</style>\n",
       "<table border=\"1\" class=\"dataframe\">\n",
       "  <thead>\n",
       "    <tr style=\"text-align: right;\">\n",
       "      <th></th>\n",
       "      <th>artists</th>\n",
       "      <th>popularity</th>\n",
       "      <th>id_artists</th>\n",
       "    </tr>\n",
       "  </thead>\n",
       "  <tbody>\n",
       "    <tr>\n",
       "      <th>87286</th>\n",
       "      <td>Justin Bieber &amp; Daniel Caesar &amp; Giveon</td>\n",
       "      <td>100</td>\n",
       "      <td>1uNFoZAHBGtllmzznpCI3s</td>\n",
       "    </tr>\n",
       "    <tr>\n",
       "      <th>87287</th>\n",
       "      <td>Olivia Rodrigo</td>\n",
       "      <td>99</td>\n",
       "      <td>1McMsnEElThX1knmY4oliG</td>\n",
       "    </tr>\n",
       "    <tr>\n",
       "      <th>87288</th>\n",
       "      <td>Masked Wolf</td>\n",
       "      <td>98</td>\n",
       "      <td>1uU7g3DNSbsu0QjSEqZtEd</td>\n",
       "    </tr>\n",
       "    <tr>\n",
       "      <th>86367</th>\n",
       "      <td>The Weeknd</td>\n",
       "      <td>97</td>\n",
       "      <td>1Xyo4u8uXC1ZmMpatF05PJ</td>\n",
       "    </tr>\n",
       "    <tr>\n",
       "      <th>86368</th>\n",
       "      <td>Kali Uchis</td>\n",
       "      <td>97</td>\n",
       "      <td>1U1el3k54VvEUzo3ybLPlM</td>\n",
       "    </tr>\n",
       "    <tr>\n",
       "      <th>...</th>\n",
       "      <td>...</td>\n",
       "      <td>...</td>\n",
       "      <td>...</td>\n",
       "    </tr>\n",
       "    <tr>\n",
       "      <th>316493</th>\n",
       "      <td>Vyacheslav Sketch</td>\n",
       "      <td>0</td>\n",
       "      <td>006ZADyabxpgKqMmh8W2yz</td>\n",
       "    </tr>\n",
       "    <tr>\n",
       "      <th>456886</th>\n",
       "      <td>Rastragayak Shantilal B. Shah</td>\n",
       "      <td>0</td>\n",
       "      <td>004Da0eAbekHrjGgSQhKHZ</td>\n",
       "    </tr>\n",
       "    <tr>\n",
       "      <th>456933</th>\n",
       "      <td>Rastragayak Shantilal B. Shah</td>\n",
       "      <td>0</td>\n",
       "      <td>004Da0eAbekHrjGgSQhKHZ</td>\n",
       "    </tr>\n",
       "    <tr>\n",
       "      <th>74511</th>\n",
       "      <td>Bletzung</td>\n",
       "      <td>0</td>\n",
       "      <td>001zCqILBoELQX6teUKKDf</td>\n",
       "    </tr>\n",
       "    <tr>\n",
       "      <th>161575</th>\n",
       "      <td>Motion Drive</td>\n",
       "      <td>0</td>\n",
       "      <td>0001wHqxbF2YYRQxGdbyER</td>\n",
       "    </tr>\n",
       "  </tbody>\n",
       "</table>\n",
       "<p>521260 rows × 3 columns</p>\n",
       "</div>"
      ],
      "text/plain": [
       "                                       artists  popularity   \n",
       "87286   Justin Bieber & Daniel Caesar & Giveon         100  \\\n",
       "87287                           Olivia Rodrigo          99   \n",
       "87288                              Masked Wolf          98   \n",
       "86367                               The Weeknd          97   \n",
       "86368                               Kali Uchis          97   \n",
       "...                                        ...         ...   \n",
       "316493                       Vyacheslav Sketch           0   \n",
       "456886           Rastragayak Shantilal B. Shah           0   \n",
       "456933           Rastragayak Shantilal B. Shah           0   \n",
       "74511                                 Bletzung           0   \n",
       "161575                            Motion Drive           0   \n",
       "\n",
       "                    id_artists  \n",
       "87286   1uNFoZAHBGtllmzznpCI3s  \n",
       "87287   1McMsnEElThX1knmY4oliG  \n",
       "87288   1uU7g3DNSbsu0QjSEqZtEd  \n",
       "86367   1Xyo4u8uXC1ZmMpatF05PJ  \n",
       "86368   1U1el3k54VvEUzo3ybLPlM  \n",
       "...                        ...  \n",
       "316493  006ZADyabxpgKqMmh8W2yz  \n",
       "456886  004Da0eAbekHrjGgSQhKHZ  \n",
       "456933  004Da0eAbekHrjGgSQhKHZ  \n",
       "74511   001zCqILBoELQX6teUKKDf  \n",
       "161575  0001wHqxbF2YYRQxGdbyER  \n",
       "\n",
       "[521260 rows x 3 columns]"
      ]
     },
     "execution_count": 23,
     "metadata": {},
     "output_type": "execute_result"
    }
   ],
   "source": [
    "artists_by_popularity.loc[:,['artists','popularity','id_artists']]"
   ]
  },
  {
   "cell_type": "code",
   "execution_count": 24,
   "metadata": {},
   "outputs": [
    {
     "data": {
      "text/plain": [
       "Index(['name', 'artists', 'id_artists', 'release_year', 'popularity',\n",
       "       'duration_minutes', 'key', 'mode', 'explicit', 'danceability', 'energy',\n",
       "       'loudness', 'speechiness', 'acousticness', 'instrumentalness',\n",
       "       'liveness', 'valence', 'tempo'],\n",
       "      dtype='object')"
      ]
     },
     "execution_count": 24,
     "metadata": {},
     "output_type": "execute_result"
    }
   ],
   "source": [
    "artists.columns"
   ]
  },
  {
   "cell_type": "code",
   "execution_count": 25,
   "metadata": {},
   "outputs": [
    {
     "data": {
      "text/html": [
       "<div>\n",
       "<style scoped>\n",
       "    .dataframe tbody tr th:only-of-type {\n",
       "        vertical-align: middle;\n",
       "    }\n",
       "\n",
       "    .dataframe tbody tr th {\n",
       "        vertical-align: top;\n",
       "    }\n",
       "\n",
       "    .dataframe thead th {\n",
       "        text-align: right;\n",
       "    }\n",
       "</style>\n",
       "<table border=\"1\" class=\"dataframe\">\n",
       "  <thead>\n",
       "    <tr style=\"text-align: right;\">\n",
       "      <th></th>\n",
       "      <th>artists</th>\n",
       "      <th>popularity</th>\n",
       "      <th>id_artists</th>\n",
       "    </tr>\n",
       "  </thead>\n",
       "  <tbody>\n",
       "    <tr>\n",
       "      <th>85486</th>\n",
       "      <td>Doja Cat</td>\n",
       "      <td>94</td>\n",
       "      <td>5cj0lLjcoR7YOSnhnX0Po5</td>\n",
       "    </tr>\n",
       "    <tr>\n",
       "      <th>86372</th>\n",
       "      <td>Giveon</td>\n",
       "      <td>94</td>\n",
       "      <td>4fxd5Ee7UefO4CUXgwJ7IP</td>\n",
       "    </tr>\n",
       "    <tr>\n",
       "      <th>86373</th>\n",
       "      <td>The Kid LAROI</td>\n",
       "      <td>94</td>\n",
       "      <td>2tIP7SsRs7vjIcLrU85W8J</td>\n",
       "    </tr>\n",
       "    <tr>\n",
       "      <th>87290</th>\n",
       "      <td>Los Legendarios &amp; Wisin &amp; Jhay Cortez</td>\n",
       "      <td>94</td>\n",
       "      <td>0n6sKrG0xKAf8xmdqeNGke</td>\n",
       "    </tr>\n",
       "    <tr>\n",
       "      <th>86379</th>\n",
       "      <td>SZA</td>\n",
       "      <td>93</td>\n",
       "      <td>7tYKF4w9nC0nq9CsPZTHyP</td>\n",
       "    </tr>\n",
       "    <tr>\n",
       "      <th>86377</th>\n",
       "      <td>Bad Bunny &amp; ROSALÍA</td>\n",
       "      <td>93</td>\n",
       "      <td>4q3ewBCX7sLwd24euuV69X</td>\n",
       "    </tr>\n",
       "    <tr>\n",
       "      <th>85487</th>\n",
       "      <td>Harry Styles</td>\n",
       "      <td>92</td>\n",
       "      <td>6KImCVD70vtIoJWnq6nGn3</td>\n",
       "    </tr>\n",
       "    <tr>\n",
       "      <th>86382</th>\n",
       "      <td>Ariana Grande</td>\n",
       "      <td>92</td>\n",
       "      <td>66CXWjxzNUsdJxJ2JdwvnR</td>\n",
       "    </tr>\n",
       "    <tr>\n",
       "      <th>87292</th>\n",
       "      <td>Rochy RD &amp; Myke Towers &amp; Nicki Nicole</td>\n",
       "      <td>92</td>\n",
       "      <td>4riOEaOW5hCeqomFDBk0aP</td>\n",
       "    </tr>\n",
       "    <tr>\n",
       "      <th>86380</th>\n",
       "      <td>Bad Bunny &amp; Jhay Cortez</td>\n",
       "      <td>92</td>\n",
       "      <td>4q3ewBCX7sLwd24euuV69X</td>\n",
       "    </tr>\n",
       "  </tbody>\n",
       "</table>\n",
       "</div>"
      ],
      "text/plain": [
       "                                     artists  popularity   \n",
       "85486                               Doja Cat          94  \\\n",
       "86372                                 Giveon          94   \n",
       "86373                          The Kid LAROI          94   \n",
       "87290  Los Legendarios & Wisin & Jhay Cortez          94   \n",
       "86379                                    SZA          93   \n",
       "86377                    Bad Bunny & ROSALÍA          93   \n",
       "85487                           Harry Styles          92   \n",
       "86382                          Ariana Grande          92   \n",
       "87292  Rochy RD & Myke Towers & Nicki Nicole          92   \n",
       "86380                Bad Bunny & Jhay Cortez          92   \n",
       "\n",
       "                   id_artists  \n",
       "85486  5cj0lLjcoR7YOSnhnX0Po5  \n",
       "86372  4fxd5Ee7UefO4CUXgwJ7IP  \n",
       "86373  2tIP7SsRs7vjIcLrU85W8J  \n",
       "87290  0n6sKrG0xKAf8xmdqeNGke  \n",
       "86379  7tYKF4w9nC0nq9CsPZTHyP  \n",
       "86377  4q3ewBCX7sLwd24euuV69X  \n",
       "85487  6KImCVD70vtIoJWnq6nGn3  \n",
       "86382  66CXWjxzNUsdJxJ2JdwvnR  \n",
       "87292  4riOEaOW5hCeqomFDBk0aP  \n",
       "86380  4q3ewBCX7sLwd24euuV69X  "
      ]
     },
     "execution_count": 25,
     "metadata": {},
     "output_type": "execute_result"
    }
   ],
   "source": [
    "artists_by_popularity.iloc[10:20,[1,4,2]]"
   ]
  },
  {
   "cell_type": "code",
   "execution_count": 26,
   "metadata": {},
   "outputs": [
    {
     "data": {
      "text/html": [
       "<div>\n",
       "<style scoped>\n",
       "    .dataframe tbody tr th:only-of-type {\n",
       "        vertical-align: middle;\n",
       "    }\n",
       "\n",
       "    .dataframe tbody tr th {\n",
       "        vertical-align: top;\n",
       "    }\n",
       "\n",
       "    .dataframe thead th {\n",
       "        text-align: right;\n",
       "    }\n",
       "</style>\n",
       "<table border=\"1\" class=\"dataframe\">\n",
       "  <thead>\n",
       "    <tr style=\"text-align: right;\">\n",
       "      <th></th>\n",
       "      <th>artists</th>\n",
       "      <th>popularity</th>\n",
       "      <th>id_artists</th>\n",
       "    </tr>\n",
       "  </thead>\n",
       "  <tbody>\n",
       "    <tr>\n",
       "      <th>87286</th>\n",
       "      <td>Justin Bieber &amp; Daniel Caesar &amp; Giveon</td>\n",
       "      <td>100</td>\n",
       "      <td>1uNFoZAHBGtllmzznpCI3s</td>\n",
       "    </tr>\n",
       "    <tr>\n",
       "      <th>87287</th>\n",
       "      <td>Olivia Rodrigo</td>\n",
       "      <td>99</td>\n",
       "      <td>1McMsnEElThX1knmY4oliG</td>\n",
       "    </tr>\n",
       "    <tr>\n",
       "      <th>87288</th>\n",
       "      <td>Masked Wolf</td>\n",
       "      <td>98</td>\n",
       "      <td>1uU7g3DNSbsu0QjSEqZtEd</td>\n",
       "    </tr>\n",
       "    <tr>\n",
       "      <th>86367</th>\n",
       "      <td>The Weeknd</td>\n",
       "      <td>97</td>\n",
       "      <td>1Xyo4u8uXC1ZmMpatF05PJ</td>\n",
       "    </tr>\n",
       "    <tr>\n",
       "      <th>86368</th>\n",
       "      <td>Kali Uchis</td>\n",
       "      <td>97</td>\n",
       "      <td>1U1el3k54VvEUzo3ybLPlM</td>\n",
       "    </tr>\n",
       "    <tr>\n",
       "      <th>86369</th>\n",
       "      <td>The Weeknd</td>\n",
       "      <td>96</td>\n",
       "      <td>1Xyo4u8uXC1ZmMpatF05PJ</td>\n",
       "    </tr>\n",
       "    <tr>\n",
       "      <th>87289</th>\n",
       "      <td>Bruno Mars &amp; Anderson .Paak &amp; Silk Sonic</td>\n",
       "      <td>96</td>\n",
       "      <td>0du5cEVh5yTK9QJze8zA0C</td>\n",
       "    </tr>\n",
       "    <tr>\n",
       "      <th>86370</th>\n",
       "      <td>Tiësto</td>\n",
       "      <td>95</td>\n",
       "      <td>2o5jDhtHVPhrJdv3cEQ99Z</td>\n",
       "    </tr>\n",
       "    <tr>\n",
       "      <th>86375</th>\n",
       "      <td>Myke Towers &amp; Juhn</td>\n",
       "      <td>94</td>\n",
       "      <td>7iK8PXO48WeuP03g8YR51W</td>\n",
       "    </tr>\n",
       "    <tr>\n",
       "      <th>87291</th>\n",
       "      <td>Riton &amp; Nightcrawlers &amp; Mufasa &amp; Hypeman &amp; Dop...</td>\n",
       "      <td>94</td>\n",
       "      <td>7i9j813KFoSBMldGqlh2Z1</td>\n",
       "    </tr>\n",
       "  </tbody>\n",
       "</table>\n",
       "</div>"
      ],
      "text/plain": [
       "                                                 artists  popularity   \n",
       "87286             Justin Bieber & Daniel Caesar & Giveon         100  \\\n",
       "87287                                     Olivia Rodrigo          99   \n",
       "87288                                        Masked Wolf          98   \n",
       "86367                                         The Weeknd          97   \n",
       "86368                                         Kali Uchis          97   \n",
       "86369                                         The Weeknd          96   \n",
       "87289           Bruno Mars & Anderson .Paak & Silk Sonic          96   \n",
       "86370                                             Tiësto          95   \n",
       "86375                                 Myke Towers & Juhn          94   \n",
       "87291  Riton & Nightcrawlers & Mufasa & Hypeman & Dop...          94   \n",
       "\n",
       "                   id_artists  \n",
       "87286  1uNFoZAHBGtllmzznpCI3s  \n",
       "87287  1McMsnEElThX1knmY4oliG  \n",
       "87288  1uU7g3DNSbsu0QjSEqZtEd  \n",
       "86367  1Xyo4u8uXC1ZmMpatF05PJ  \n",
       "86368  1U1el3k54VvEUzo3ybLPlM  \n",
       "86369  1Xyo4u8uXC1ZmMpatF05PJ  \n",
       "87289  0du5cEVh5yTK9QJze8zA0C  \n",
       "86370  2o5jDhtHVPhrJdv3cEQ99Z  \n",
       "86375  7iK8PXO48WeuP03g8YR51W  \n",
       "87291  7i9j813KFoSBMldGqlh2Z1  "
      ]
     },
     "execution_count": 26,
     "metadata": {},
     "output_type": "execute_result"
    }
   ],
   "source": [
    "artists_by_popularity[['artists','popularity','id_artists']].iloc[:10]"
   ]
  },
  {
   "cell_type": "markdown",
   "metadata": {},
   "source": [
    "עד עכשיו עבדנו עם pandas על אובייקטים מסוג Series. ראינו שהם מכילים רצף של ערכים, למשל רצף של מספרים או רצף של מחרוזות, ונחשפנו לעוד כמה תכונות מעניינות שלהם.\n",
    "\n",
    "אנחנו כבר מכירים סוג אחר של רצף – רשימה.\n",
    "\n",
    "ניזכר בהבדלים בין רשימה לסדרה:\n",
    "\n",
    "נתחיל ביצירת רשימה וסדרה.\n",
    "עבור שתיהן בחרנו, לצורך הדוגמה, תשעה מספרים ראשוניים הראשונים:"
   ]
  },
  {
   "cell_type": "code",
   "execution_count": 27,
   "metadata": {},
   "outputs": [
    {
     "data": {
      "text/plain": [
       "list"
      ]
     },
     "execution_count": 27,
     "metadata": {},
     "output_type": "execute_result"
    }
   ],
   "source": [
    "list1 = [2, 3, 5, 7, 11, 13, 17, 19, 23]\n",
    "type(list1)"
   ]
  },
  {
   "cell_type": "code",
   "execution_count": 28,
   "metadata": {},
   "outputs": [
    {
     "data": {
      "text/plain": [
       "pandas.core.series.Series"
      ]
     },
     "execution_count": 28,
     "metadata": {},
     "output_type": "execute_result"
    }
   ],
   "source": [
    "series1 = pd.Series([2, 3, 5, 7, 11, 13, 17, 19, 23])\n",
    "type(series1)"
   ]
  },
  {
   "cell_type": "code",
   "execution_count": 29,
   "metadata": {},
   "outputs": [
    {
     "name": "stdout",
     "output_type": "stream",
     "text": [
      "[2, 3, 5, 7, 11, 13, 17, 19, 23]\n"
     ]
    }
   ],
   "source": [
    "print(list1)"
   ]
  },
  {
   "cell_type": "code",
   "execution_count": 30,
   "metadata": {},
   "outputs": [
    {
     "name": "stdout",
     "output_type": "stream",
     "text": [
      "0     2\n",
      "1     3\n",
      "2     5\n",
      "3     7\n",
      "4    11\n",
      "5    13\n",
      "6    17\n",
      "7    19\n",
      "8    23\n",
      "dtype: int64\n"
     ]
    }
   ],
   "source": [
    "print(series1)"
   ]
  },
  {
   "cell_type": "markdown",
   "metadata": {},
   "source": [
    "שליפה מרשימה אפשר לבצע אך ורק על סמך המיקום ברשימה, בעזרת הסוגריים המרובעים:"
   ]
  },
  {
   "cell_type": "code",
   "execution_count": 31,
   "metadata": {},
   "outputs": [
    {
     "name": "stdout",
     "output_type": "stream",
     "text": [
      "2\n",
      "23\n",
      "[11, 13, 17]\n"
     ]
    }
   ],
   "source": [
    "print(list1[0])\n",
    "print(list1[-1])\n",
    "print(list1[4:7])"
   ]
  },
  {
   "cell_type": "markdown",
   "metadata": {},
   "source": [
    "בשליפה מסדרה עלינו להשתמש במתודה iloc, ממש כמו שהשתמשנו בה ב-pandas. חוץ מהצורך להשתמש בשמה של המתודה, אין הרבה הבדל, והשליפות פועלות באותו אופן:"
   ]
  },
  {
   "cell_type": "code",
   "execution_count": 32,
   "metadata": {},
   "outputs": [
    {
     "name": "stdout",
     "output_type": "stream",
     "text": [
      "2\n",
      "23\n",
      "4    11\n",
      "5    13\n",
      "6    17\n",
      "dtype: int64\n"
     ]
    }
   ],
   "source": [
    "print(series1.iloc[0])\n",
    "print(series1.iloc[-1])\n",
    "print(series1.iloc[4:7])"
   ]
  },
  {
   "cell_type": "markdown",
   "metadata": {},
   "source": [
    "עד כה נראה כי שליפה בסדרה די דומה לשליפה ברשימה, וההבדל המהותי הוא בטור האינדקסים בהדפסה של סדרה, טור שכאמור לא קיים בהדפסת רשימה.\n",
    " טור האינדקס מציג שם לכל תא. אפשר גם ליצור אינדקס דרך הזנה של רצף ערכים לתכונה 'אינדקס' (חשוב להקפיד שהרצף יהיה זהה באורכו למספר האיברים בסדרה):"
   ]
  },
  {
   "cell_type": "code",
   "execution_count": 33,
   "metadata": {},
   "outputs": [],
   "source": [
    "series1.index = [0, 1, 10, 11, 100, 101, 110, 111, 1000]"
   ]
  },
  {
   "cell_type": "markdown",
   "metadata": {},
   "source": [
    "כך אפשר להשתמש במתודה המיוחדת loc, \n",
    "ששולפת את האיבר לפי האינדקס. השמות שזה עתה הגדרנו לכל אחד מהתאים בסדרה משמשים כמפתחות.\n",
    "הנה דוגמה לשתי אפשרויות לשליפה בעזרת loc: \n",
    "שתי השורות הראשונות מציגות שליפה של איבר בודד, ובשורה השלישית שליפה של טווח:"
   ]
  },
  {
   "cell_type": "code",
   "execution_count": 34,
   "metadata": {},
   "outputs": [
    {
     "name": "stdout",
     "output_type": "stream",
     "text": [
      "2\n",
      "23\n",
      "100    11\n",
      "101    13\n",
      "110    17\n",
      "dtype: int64\n"
     ]
    }
   ],
   "source": [
    "print(series1.loc[0])\n",
    "print(series1.loc[1000])\n",
    "print(series1.loc[100:110])"
   ]
  },
  {
   "cell_type": "markdown",
   "metadata": {},
   "source": [
    "שליפה לפי מיקום דומה לשליפה מרשימה ושליפה לפי אינדקס דומה לשליפה ממילון, ולכן אפשר לומר שהסדרה מתנהגת כמו 'גם רשימה וגם מילון'.1\n",
    "לסדרה יש גם מגבלה שבמילון וברשימה דווקא לא קיימת, והיא שבסדרה, מהרגע שנוצרה, אי אפשר להוסיף איברים או למחוק אותם.2"
   ]
  },
  {
   "cell_type": "markdown",
   "metadata": {},
   "source": [
    "נזכיר כמה קל ופשוט להוסיף איברים לרשימה ולמחוק:"
   ]
  },
  {
   "cell_type": "code",
   "execution_count": 35,
   "metadata": {},
   "outputs": [
    {
     "name": "stdout",
     "output_type": "stream",
     "text": [
      "[2, 3, 5, 7, 11, 13, 17, 19, 23, 29]\n"
     ]
    }
   ],
   "source": [
    "list1.append(29)\n",
    "print(list1)"
   ]
  },
  {
   "cell_type": "code",
   "execution_count": 36,
   "metadata": {},
   "outputs": [
    {
     "name": "stdout",
     "output_type": "stream",
     "text": [
      "[2, 3, 5, 7, 11, 13, 17, 19, 23]\n"
     ]
    }
   ],
   "source": [
    "list1.pop()\n",
    "print(list1)"
   ]
  },
  {
   "cell_type": "markdown",
   "metadata": {},
   "source": [
    "גם לסדרה יש את הדרכים שלה להפוך את החיים לקלים יותר, למשל היא מאפשרת לבצע בקלות פעולות חשבון רגילות על כל האיברים בסדרה:"
   ]
  },
  {
   "cell_type": "code",
   "execution_count": 37,
   "metadata": {},
   "outputs": [
    {
     "data": {
      "text/plain": [
       "0        1.0\n",
       "1        1.5\n",
       "10       2.5\n",
       "11       3.5\n",
       "100      5.5\n",
       "101      6.5\n",
       "110      8.5\n",
       "111      9.5\n",
       "1000    11.5\n",
       "dtype: float64"
      ]
     },
     "execution_count": 37,
     "metadata": {},
     "output_type": "execute_result"
    }
   ],
   "source": [
    "series1 / 2\n"
   ]
  },
  {
   "cell_type": "markdown",
   "metadata": {},
   "source": [
    "אם בכל זאת תרצו לבצע פעולות חשבון ברשימה, תזדקקו לקצת עזרה ממנגנון list comprehension:"
   ]
  },
  {
   "cell_type": "code",
   "execution_count": 38,
   "metadata": {},
   "outputs": [
    {
     "data": {
      "text/plain": [
       "[1.0, 1.5, 2.5, 3.5, 5.5, 6.5, 8.5, 9.5, 11.5]"
      ]
     },
     "execution_count": 38,
     "metadata": {},
     "output_type": "execute_result"
    }
   ],
   "source": [
    "[m/2 for m in list1]"
   ]
  },
  {
   "cell_type": "markdown",
   "metadata": {},
   "source": [
    "Creating a numpy array:\n",
    "בדומה לרשימה ולסדרה שיצרנו קודם, נייצר כעת מערך. \n",
    "וכפי שיצירת סדרה נעשית בעזרת פונקציה מתוך pandas,\n",
    "יצירת מערך נעשית בעזרת פונקציה מתוך numpy."
   ]
  },
  {
   "cell_type": "code",
   "execution_count": 39,
   "metadata": {},
   "outputs": [],
   "source": [
    "import numpy as np"
   ]
  },
  {
   "cell_type": "code",
   "execution_count": 40,
   "metadata": {},
   "outputs": [
    {
     "data": {
      "text/plain": [
       "numpy.ndarray"
      ]
     },
     "execution_count": 40,
     "metadata": {},
     "output_type": "execute_result"
    }
   ],
   "source": [
    "array1 = np.array([2, 3, 5, 7, 11, 13, 17, 19, 23])\n",
    "type(array1)"
   ]
  },
  {
   "cell_type": "code",
   "execution_count": 41,
   "metadata": {},
   "outputs": [
    {
     "name": "stdout",
     "output_type": "stream",
     "text": [
      "[ 2  3  5  7 11 13 17 19 23]\n"
     ]
    }
   ],
   "source": [
    "print(array1)"
   ]
  },
  {
   "cell_type": "code",
   "execution_count": 42,
   "metadata": {},
   "outputs": [
    {
     "data": {
      "text/plain": [
       "array([ 2,  3,  5,  7, 11, 13, 17, 19, 23])"
      ]
     },
     "execution_count": 42,
     "metadata": {},
     "output_type": "execute_result"
    }
   ],
   "source": [
    "array1"
   ]
  },
  {
   "cell_type": "code",
   "execution_count": 43,
   "metadata": {},
   "outputs": [
    {
     "data": {
      "text/plain": [
       "array([ 2,  3,  5,  7, 11, 13, 17, 19, 23])"
      ]
     },
     "execution_count": 43,
     "metadata": {},
     "output_type": "execute_result"
    }
   ],
   "source": [
    "array2=np.array(list1)\n",
    "array2"
   ]
  },
  {
   "cell_type": "markdown",
   "metadata": {},
   "source": [
    "אם הנתונים שלנו שמורים בסדרה (ולא ברשימה) ואנחנו רוצים ליצור מהם מערך, נוכל להשתמש בתכונה values, הממירה סדרה למערך numpy:\n",
    "\n"
   ]
  },
  {
   "cell_type": "code",
   "execution_count": 44,
   "metadata": {},
   "outputs": [
    {
     "data": {
      "text/plain": [
       "array([ 2,  3,  5,  7, 11, 13, 17, 19, 23], dtype=int64)"
      ]
     },
     "execution_count": 44,
     "metadata": {},
     "output_type": "execute_result"
    }
   ],
   "source": [
    "series1.values"
   ]
  },
  {
   "cell_type": "code",
   "execution_count": 45,
   "metadata": {},
   "outputs": [
    {
     "data": {
      "text/plain": [
       "numpy.ndarray"
      ]
     },
     "execution_count": 45,
     "metadata": {},
     "output_type": "execute_result"
    }
   ],
   "source": [
    "type(series1.values)\n"
   ]
  },
  {
   "cell_type": "markdown",
   "metadata": {},
   "source": [
    "חיבור מערכים"
   ]
  },
  {
   "cell_type": "code",
   "execution_count": 47,
   "metadata": {},
   "outputs": [
    {
     "data": {
      "text/plain": [
       "array([31, 47, 33, 43, 25, 44, 26, 24])"
      ]
     },
     "execution_count": 47,
     "metadata": {},
     "output_type": "execute_result"
    }
   ],
   "source": [
    "beatles_songs_per_year_1963_to_1970 = np.array([31, 35, 33, 16, 24, 34, 26, 11])\n",
    "simon_and_garfunkel_songs_per_year_1963_to_1970 = np.array([0, 12, 0, 27, 1, 10, 0, 13])\n",
    "total_songs = beatles_songs_per_year_1963_to_1970 + simon_and_garfunkel_songs_per_year_1963_to_1970\n",
    "total_songs"
   ]
  },
  {
   "cell_type": "markdown",
   "metadata": {},
   "source": [
    "חיסור מערכים"
   ]
  },
  {
   "cell_type": "code",
   "execution_count": 48,
   "metadata": {},
   "outputs": [
    {
     "data": {
      "text/plain": [
       "array([ 31,  23,  33, -11,  23,  24,  26,  -2])"
      ]
     },
     "execution_count": 48,
     "metadata": {},
     "output_type": "execute_result"
    }
   ],
   "source": [
    "beatles_songs_per_year_1963_to_1970 - simon_and_garfunkel_songs_per_year_1963_to_1970"
   ]
  },
  {
   "cell_type": "markdown",
   "metadata": {},
   "source": [
    "חלק יחסי מתוך הסך הכל"
   ]
  },
  {
   "cell_type": "code",
   "execution_count": 50,
   "metadata": {},
   "outputs": [
    {
     "data": {
      "text/plain": [
       "array([0.        , 0.25531915, 0.        , 0.62790698, 0.04      ,\n",
       "       0.22727273, 0.        , 0.54166667])"
      ]
     },
     "execution_count": 50,
     "metadata": {},
     "output_type": "execute_result"
    }
   ],
   "source": [
    "simon_and_garfunkel_proportion = simon_and_garfunkel_songs_per_year_1963_to_1970 / total_songs\n",
    "simon_and_garfunkel_proportion"
   ]
  },
  {
   "cell_type": "code",
   "execution_count": 51,
   "metadata": {},
   "outputs": [
    {
     "data": {
      "text/plain": [
       "array([ 0.        , 25.53191489,  0.        , 62.79069767,  4.        ,\n",
       "       22.72727273,  0.        , 54.16666667])"
      ]
     },
     "execution_count": 51,
     "metadata": {},
     "output_type": "execute_result"
    }
   ],
   "source": [
    "simon_and_garfunkel_percent = simon_and_garfunkel_proportion * 100\n",
    "simon_and_garfunkel_percent"
   ]
  },
  {
   "cell_type": "code",
   "execution_count": 52,
   "metadata": {},
   "outputs": [
    {
     "data": {
      "text/plain": [
       "26"
      ]
     },
     "execution_count": 52,
     "metadata": {},
     "output_type": "execute_result"
    }
   ],
   "source": [
    "round(simon_and_garfunkel_percent[1])"
   ]
  },
  {
   "cell_type": "code",
   "execution_count": 53,
   "metadata": {},
   "outputs": [
    {
     "data": {
      "text/plain": [
       "array([ 0., 26.,  0., 63.,  4., 23.,  0., 54.])"
      ]
     },
     "execution_count": 53,
     "metadata": {},
     "output_type": "execute_result"
    }
   ],
   "source": [
    "np.round(simon_and_garfunkel_percent)"
   ]
  },
  {
   "cell_type": "code",
   "execution_count": null,
   "metadata": {},
   "outputs": [],
   "source": []
  }
 ],
 "metadata": {
  "kernelspec": {
   "display_name": "Python 3",
   "language": "python",
   "name": "python3"
  },
  "language_info": {
   "codemirror_mode": {
    "name": "ipython",
    "version": 3
   },
   "file_extension": ".py",
   "mimetype": "text/x-python",
   "name": "python",
   "nbconvert_exporter": "python",
   "pygments_lexer": "ipython3",
   "version": "3.11.3"
  }
 },
 "nbformat": 4,
 "nbformat_minor": 2
}
